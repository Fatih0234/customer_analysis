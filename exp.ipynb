{
 "cells": [
  {
   "cell_type": "code",
   "execution_count": 1,
   "metadata": {},
   "outputs": [
    {
     "name": "stdout",
     "output_type": "stream",
     "text": [
      "Data fetched successfully!\n",
      "    income marital_status  total_children gender  education  house_owner  \\\n",
      "0  90000.0              M               2      M  Bachelors            1   \n",
      "1  60000.0              S               3      M  Bachelors            0   \n",
      "2  60000.0              M               3      M  Bachelors            1   \n",
      "3  70000.0              S               0      F  Bachelors            0   \n",
      "4  80000.0              S               5      F  Bachelors            1   \n",
      "\n",
      "   number_cars_owned  \n",
      "0                  0  \n",
      "1                  1  \n",
      "2                  1  \n",
      "3                  1  \n",
      "4                  4  \n"
     ]
    }
   ],
   "source": [
    "import psycopg2\n",
    "import pandas as pd\n",
    "import matplotlib.pyplot as plt\n",
    "import seaborn as sns\n",
    "\n",
    "# Database connection parameters\n",
    "host = \"mtas01.vlba.uni-oldenburg.de\"          # e.g., \"localhost\" or \"127.0.0.1\"\n",
    "port = \"5432\"               # Default PostgreSQL port\n",
    "database = \"bicourse_db_35\"  # Database name\n",
    "user = \"bicourse_user_35\"      # PostgreSQL username\n",
    "password = \"fVe9mkY291\"  # PostgreSQL password\n",
    "\n",
    "\n",
    "# Connect to the database and fetch data\n",
    "try:\n",
    "    # Establish connection\n",
    "    connection = psycopg2.connect(\n",
    "        host=host,\n",
    "        port=port,\n",
    "        database=database,\n",
    "        user=user,\n",
    "        password=password\n",
    "    )\n",
    "    \n",
    "    # Create a cursor object\n",
    "    cursor = connection.cursor()\n",
    "    \n",
    "    # SQL query to fetch the required data\n",
    "    query = \"\"\"\n",
    "    SELECT yearly_income, \n",
    "           marital_status, \n",
    "           total_children, \n",
    "           gender, \n",
    "           english_education, \n",
    "           house_owner_flag, \n",
    "           number_cars_owned\n",
    "    FROM dim_customer; -- Replace with your actual table name\n",
    "    \"\"\"\n",
    "    \n",
    "    # Execute the query and fetch results\n",
    "    cursor.execute(query)\n",
    "    data = cursor.fetchall()\n",
    "    \n",
    "    # Load data into a DataFrame\n",
    "    columns = ['income', 'marital_status', 'total_children', 'gender', 'education', 'house_owner', 'number_cars_owned']\n",
    "    customer_data = pd.DataFrame(data, columns=columns)\n",
    "    \n",
    "    print(\"Data fetched successfully!\")\n",
    "    print(customer_data.head())  # Preview the data\n",
    "\n",
    "except Exception as error:\n",
    "    print(\"Error while fetching data:\", error)\n",
    "\n",
    "finally:\n",
    "    if connection:\n",
    "        cursor.close()\n",
    "        connection.close()"
   ]
  },
  {
   "cell_type": "code",
   "execution_count": 2,
   "metadata": {},
   "outputs": [
    {
     "data": {
      "text/html": [
       "<div>\n",
       "<style scoped>\n",
       "    .dataframe tbody tr th:only-of-type {\n",
       "        vertical-align: middle;\n",
       "    }\n",
       "\n",
       "    .dataframe tbody tr th {\n",
       "        vertical-align: top;\n",
       "    }\n",
       "\n",
       "    .dataframe thead th {\n",
       "        text-align: right;\n",
       "    }\n",
       "</style>\n",
       "<table border=\"1\" class=\"dataframe\">\n",
       "  <thead>\n",
       "    <tr style=\"text-align: right;\">\n",
       "      <th></th>\n",
       "      <th>income</th>\n",
       "      <th>marital_status</th>\n",
       "      <th>total_children</th>\n",
       "      <th>gender</th>\n",
       "      <th>education</th>\n",
       "      <th>house_owner</th>\n",
       "      <th>number_cars_owned</th>\n",
       "    </tr>\n",
       "  </thead>\n",
       "  <tbody>\n",
       "    <tr>\n",
       "      <th>0</th>\n",
       "      <td>90000.0</td>\n",
       "      <td>M</td>\n",
       "      <td>2</td>\n",
       "      <td>M</td>\n",
       "      <td>Bachelors</td>\n",
       "      <td>1</td>\n",
       "      <td>0</td>\n",
       "    </tr>\n",
       "    <tr>\n",
       "      <th>1</th>\n",
       "      <td>60000.0</td>\n",
       "      <td>S</td>\n",
       "      <td>3</td>\n",
       "      <td>M</td>\n",
       "      <td>Bachelors</td>\n",
       "      <td>0</td>\n",
       "      <td>1</td>\n",
       "    </tr>\n",
       "    <tr>\n",
       "      <th>2</th>\n",
       "      <td>60000.0</td>\n",
       "      <td>M</td>\n",
       "      <td>3</td>\n",
       "      <td>M</td>\n",
       "      <td>Bachelors</td>\n",
       "      <td>1</td>\n",
       "      <td>1</td>\n",
       "    </tr>\n",
       "    <tr>\n",
       "      <th>3</th>\n",
       "      <td>70000.0</td>\n",
       "      <td>S</td>\n",
       "      <td>0</td>\n",
       "      <td>F</td>\n",
       "      <td>Bachelors</td>\n",
       "      <td>0</td>\n",
       "      <td>1</td>\n",
       "    </tr>\n",
       "    <tr>\n",
       "      <th>4</th>\n",
       "      <td>80000.0</td>\n",
       "      <td>S</td>\n",
       "      <td>5</td>\n",
       "      <td>F</td>\n",
       "      <td>Bachelors</td>\n",
       "      <td>1</td>\n",
       "      <td>4</td>\n",
       "    </tr>\n",
       "  </tbody>\n",
       "</table>\n",
       "</div>"
      ],
      "text/plain": [
       "    income marital_status  total_children gender  education  house_owner  \\\n",
       "0  90000.0              M               2      M  Bachelors            1   \n",
       "1  60000.0              S               3      M  Bachelors            0   \n",
       "2  60000.0              M               3      M  Bachelors            1   \n",
       "3  70000.0              S               0      F  Bachelors            0   \n",
       "4  80000.0              S               5      F  Bachelors            1   \n",
       "\n",
       "   number_cars_owned  \n",
       "0                  0  \n",
       "1                  1  \n",
       "2                  1  \n",
       "3                  1  \n",
       "4                  4  "
      ]
     },
     "execution_count": 2,
     "metadata": {},
     "output_type": "execute_result"
    }
   ],
   "source": [
    "customer_data.head()"
   ]
  },
  {
   "cell_type": "code",
   "execution_count": 3,
   "metadata": {},
   "outputs": [
    {
     "data": {
      "text/html": [
       "<div>\n",
       "<style scoped>\n",
       "    .dataframe tbody tr th:only-of-type {\n",
       "        vertical-align: middle;\n",
       "    }\n",
       "\n",
       "    .dataframe tbody tr th {\n",
       "        vertical-align: top;\n",
       "    }\n",
       "\n",
       "    .dataframe thead th {\n",
       "        text-align: right;\n",
       "    }\n",
       "</style>\n",
       "<table border=\"1\" class=\"dataframe\">\n",
       "  <thead>\n",
       "    <tr style=\"text-align: right;\">\n",
       "      <th></th>\n",
       "      <th>income</th>\n",
       "      <th>total_children</th>\n",
       "      <th>house_owner</th>\n",
       "      <th>number_cars_owned</th>\n",
       "    </tr>\n",
       "  </thead>\n",
       "  <tbody>\n",
       "    <tr>\n",
       "      <th>count</th>\n",
       "      <td>18484.000000</td>\n",
       "      <td>18484.000000</td>\n",
       "      <td>18484.000000</td>\n",
       "      <td>18484.000000</td>\n",
       "    </tr>\n",
       "    <tr>\n",
       "      <th>mean</th>\n",
       "      <td>57305.777970</td>\n",
       "      <td>1.844352</td>\n",
       "      <td>0.676369</td>\n",
       "      <td>1.502705</td>\n",
       "    </tr>\n",
       "    <tr>\n",
       "      <th>std</th>\n",
       "      <td>32285.841703</td>\n",
       "      <td>1.612408</td>\n",
       "      <td>0.467874</td>\n",
       "      <td>1.138394</td>\n",
       "    </tr>\n",
       "    <tr>\n",
       "      <th>min</th>\n",
       "      <td>10000.000000</td>\n",
       "      <td>0.000000</td>\n",
       "      <td>0.000000</td>\n",
       "      <td>0.000000</td>\n",
       "    </tr>\n",
       "    <tr>\n",
       "      <th>25%</th>\n",
       "      <td>30000.000000</td>\n",
       "      <td>0.000000</td>\n",
       "      <td>0.000000</td>\n",
       "      <td>1.000000</td>\n",
       "    </tr>\n",
       "    <tr>\n",
       "      <th>50%</th>\n",
       "      <td>60000.000000</td>\n",
       "      <td>2.000000</td>\n",
       "      <td>1.000000</td>\n",
       "      <td>2.000000</td>\n",
       "    </tr>\n",
       "    <tr>\n",
       "      <th>75%</th>\n",
       "      <td>70000.000000</td>\n",
       "      <td>3.000000</td>\n",
       "      <td>1.000000</td>\n",
       "      <td>2.000000</td>\n",
       "    </tr>\n",
       "    <tr>\n",
       "      <th>max</th>\n",
       "      <td>170000.000000</td>\n",
       "      <td>5.000000</td>\n",
       "      <td>1.000000</td>\n",
       "      <td>4.000000</td>\n",
       "    </tr>\n",
       "  </tbody>\n",
       "</table>\n",
       "</div>"
      ],
      "text/plain": [
       "              income  total_children   house_owner  number_cars_owned\n",
       "count   18484.000000    18484.000000  18484.000000       18484.000000\n",
       "mean    57305.777970        1.844352      0.676369           1.502705\n",
       "std     32285.841703        1.612408      0.467874           1.138394\n",
       "min     10000.000000        0.000000      0.000000           0.000000\n",
       "25%     30000.000000        0.000000      0.000000           1.000000\n",
       "50%     60000.000000        2.000000      1.000000           2.000000\n",
       "75%     70000.000000        3.000000      1.000000           2.000000\n",
       "max    170000.000000        5.000000      1.000000           4.000000"
      ]
     },
     "execution_count": 3,
     "metadata": {},
     "output_type": "execute_result"
    }
   ],
   "source": [
    "customer_data.describe()"
   ]
  },
  {
   "cell_type": "code",
   "execution_count": 5,
   "metadata": {},
   "outputs": [
    {
     "data": {
      "text/plain": [
       "Index(['Bachelors', 'Partial College', 'High School', 'Graduate Degree',\n",
       "       'Partial High School'],\n",
       "      dtype='object', name='education')"
      ]
     },
     "execution_count": 5,
     "metadata": {},
     "output_type": "execute_result"
    }
   ],
   "source": [
    "customer_data.education.value_counts().index"
   ]
  },
  {
   "cell_type": "code",
   "execution_count": 6,
   "metadata": {},
   "outputs": [
    {
     "name": "stdout",
     "output_type": "stream",
     "text": [
      "<class 'pandas.core.frame.DataFrame'>\n",
      "RangeIndex: 18484 entries, 0 to 18483\n",
      "Data columns (total 7 columns):\n",
      " #   Column             Non-Null Count  Dtype  \n",
      "---  ------             --------------  -----  \n",
      " 0   income             18484 non-null  float64\n",
      " 1   marital_status     18484 non-null  object \n",
      " 2   total_children     18484 non-null  int64  \n",
      " 3   gender             18484 non-null  object \n",
      " 4   education          18484 non-null  object \n",
      " 5   house_owner        18484 non-null  int64  \n",
      " 6   number_cars_owned  18484 non-null  int64  \n",
      "dtypes: float64(1), int64(3), object(3)\n",
      "memory usage: 1011.0+ KB\n"
     ]
    }
   ],
   "source": [
    "customer_data.info()"
   ]
  },
  {
   "cell_type": "code",
   "execution_count": 9,
   "metadata": {},
   "outputs": [
    {
     "data": {
      "text/plain": [
       "Index(['M', 'S'], dtype='object', name='marital_status')"
      ]
     },
     "execution_count": 9,
     "metadata": {},
     "output_type": "execute_result"
    }
   ],
   "source": [
    "customer_data.marital_status.value_counts().index"
   ]
  },
  {
   "cell_type": "code",
   "execution_count": 10,
   "metadata": {},
   "outputs": [],
   "source": [
    "def classify_profile(row):\n",
    "    if row['income'] > 75000:\n",
    "        return \"High Earners\"\n",
    "    elif 30000 <= row['income'] <= 75000 and row['marital_status'] == 'M' and row['total_children'] > 0:\n",
    "        return \"Middle Class Families\"\n",
    "    elif 30000 <= row['income'] <= 75000 and row['marital_status'] == 'S' and row['total_children'] == 0 and \\\n",
    "         row['education'] in ['Bachelors', 'Graduate Degree']:\n",
    "        return \"Young Professionals\"\n",
    "    elif row['income'] < 30000:\n",
    "        return \"Low Income\"\n",
    "    else:\n",
    "        return \"Other\"\n",
    "\n",
    "# Define profiles\n",
    "customer_data['Profile'] = customer_data.apply(lambda row: classify_profile(row), axis=1)\n"
   ]
  },
  {
   "cell_type": "code",
   "execution_count": 11,
   "metadata": {},
   "outputs": [
    {
     "data": {
      "image/png": "[encoded data removed]",
      "text/plain": [
       "<Figure size 1000x600 with 1 Axes>"
      ]
     },
     "metadata": {},
     "output_type": "display_data"
    }
   ],
   "source": [
    "# Visualizations for business questions\n",
    "# 1. Marketing Campaign Optimization\n",
    "profile_counts = customer_data['Profile'].value_counts()\n",
    "plt.figure(figsize=(10, 6))\n",
    "sns.barplot(x=profile_counts.index, y=profile_counts.values)\n",
    "plt.title(\"Customer Profiles Distribution\")\n",
    "plt.xlabel(\"Profile\")\n",
    "plt.ylabel(\"Count\")\n",
    "plt.show()"
   ]
  },
  {
   "cell_type": "code",
   "execution_count": null,
   "metadata": {},
   "outputs": [],
   "source": []
  }
 ],
 "metadata": {
  "kernelspec": {
   "display_name": "Python 3",
   "language": "python",
   "name": "python3"
  },
  "language_info": {
   "codemirror_mode": {
    "name": "ipython",
    "version": 3
   },
   "file_extension": ".py",
   "mimetype": "text/x-python",
   "name": "python",
   "nbconvert_exporter": "python",
   "pygments_lexer": "ipython3",
   "version": "3.11.2"
  }
 },
 "nbformat": 4,
 "nbformat_minor": 2
}
